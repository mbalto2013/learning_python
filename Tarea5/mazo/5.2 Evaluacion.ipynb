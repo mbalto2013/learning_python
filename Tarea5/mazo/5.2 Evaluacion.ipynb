{
 "cells": [
  {
   "cell_type": "markdown",
   "metadata": {
    "colab_type": "text",
    "id": "VSMQLoiOhEn_"
   },
   "source": [
    "## Sesión 5: Evaluación\n",
    "\n",
    "Escriba los modulos y scripts descritos a continuacion y envielos como una carpeta comprimida a smorales@ucenfotec.ac.cr\n",
    "\n",
    "#### 1. Cree un paquete (directorio) llamado **mazo** con los siguientes dos modulos:\n",
    "\n",
    "- **cartas.py**: Este modulo debe contener los siguientes atributos:\n",
    "  - Una clase **Carta** con los atributos **valor** (int) y **palo** (str), asi como un metodo para imprimir el valor de la carta (\"As de Diamantes\", \"Rey de Corazones\", \"3 de Treboles\", etc...)\n",
    "  - Una funcion **crear_mazo** que retorne una lista con 52 objetos de tipo **Carta** que representen las 52 cartas en un mazo de cartas estandar.\n",
    "  - Una funcion **revolver_mazo** que reciba una lista de cartas, aleatorice el orden de la misma, y devuelva la lista revuelta.\n",
    "  - Una funcion **sacar_cartas**, que reciba una lista de cartas y un numero entero N y retorne una tupla con 2 elementos: una lista conteniendo las primeras N cartas de la lista, y el resto de la lista (sin las cartas extraidas).\n",
    "- **resultados.py**: Este modulo debe contener los siguientes atributos:\n",
    "  - Una clase **Resultado** con los atributos **fecha** (datetime), **jugador** (str) y **puntos** (int), y un metodo imprimir que imprima la informacion contenida en el objeto.\n",
    "  - Una funcion **guardar_resultados** que almacene dentro de un archivo pickle una lista de objetos Resultado.\n",
    "  - Una funcion **cargar_resultados** que extraiga de un archivo pickle una lista de objetos Resultado.\n",
    "\n",
    "#### 2. Escriba un script que se comporte de la siguiente manera al ser ejecutado por medio de la linea de comando:\n",
    "\n",
    "- Debe recibir como parametros de entrada el nombre del jugador, por ejemplo: `python programa.py Sergio`\n",
    "\n",
    "- Debe mostrar un menu con las opciones: **Iniciar Juego** y **Ver Puntuaciones**. La opcion **Ver Puntuaciones** imprime las puntuaciones ubicadas en un archivo externo usando el modulo **resultados.py**.\n",
    "\n",
    "- La opcion **Iniciar Juego** inicia un juego nuevo: \n",
    "  1. Usando el modulo **cartas.py**, genere y revuelva un mazo de 52 cartas estandar.\n",
    "  2. Extraiga 2 grupos de 10 cartas del mazo usando la funcion **sacar_cartas**. El primero son las cartas del jugador. El segundo es un grupo \"oculto\".\n",
    "  3. Aleatoriamente, determine un palo \"fuerte\" y uno \"debil\" de entre diamantes, corazones, treboles y picas (deben ser diferentes) e indiquelos al usuario.\n",
    "  4. Muestre al usuario sus cartas (el primer grupo extraido en el paso 2).\n",
    "  5. Despues de ver sus cartas, el usuario debe indicar el numero de \"encuentros\" que cree que va a ganar, entre 0 y 10.\n",
    "  6. El programa debe mostrar el resultado de los 10 \"encuentros\" entre las cartas del usuario, y el grupo de cartas \"oculto\". **Refierase a las reglas del juego (abajo) para determinar el resultado de los 10 encuentros**.\n",
    "  7. El programa debe mostrar el puntaje final, calculado por la formula:\n",
    "  `puntos = 10-(abs(G-N))`\n",
    "  donde G es el numero de encuentros que gano y N el numero que adivino al principio de la ronda (abs es una funcion de Python que obtiene un valor absoluto). Este resultado debe almacenarse en un archivo externo usando las funciones del modulo **resultados.py** .\n",
    "  \n",
    "### Reglas del juego\n",
    "\n",
    "El resultado de un **encuentro** se determina de la siguiente manera: Recuerde que hay un palo fuerte, un palo debil y dos palos \"regulares\". Para los ejemplos a continuacion, Corazones sera el **palo fuerte** y Picas el **palo debil**. A los otros dos palos (Diamantes y Treboles) se les referira como **palos regulares**.\n",
    "\n",
    "- Un encuentro entre cartas **del mismo palo** se resuelve con el valor mas alto (2 de treboles vs 4 de treboles - gana 4 de treboles).\n",
    "- Un encuentro entre cartas **de palos regulares** se resuelven con el valor tambien (10 de treboles vs 8 de diamantes - gana 10 de treboles. Un empate es favorable para el jugador.)\n",
    "- Un encuentro entre una **carta del palo fuerte y una carta de palo regular** es favorable siempre para la carta de palo fuerte (3 de Corazones vs 8 de Diamantes - gana 3 de Corazones)\n",
    "- Un encuentro entre una **carta del palo debil y una carta de palo regular** es favorable siempre para la carta de palo regular (3 de Diamantes vs 8 de Picas - gana 3 de Diamantes)\n",
    "- Un encuentro entre una **carta del palo debil y una carta de palo fuerte** es favorable siempre para la carta de **palo debil** (5 de Corazones vs 2 de Picas - gana 2 de Picas)\n",
    "\n",
    "Puede tambien referirse al siguiente grafico:\n",
    "\n",
    "<img src=\"https://i.imgur.com/Gkn3oat.png\" width=\"600px\">\n",
    "\n",
    "Puesto que en este juego el jugador cuenta con 10 cartas, se efectuan 10 encuentros: uno entre la primera carta del jugador y la primera del grupo oculto, otro entre la segunda carta del jugador y la segunda del grupo oculto, y asi sucesivamente."
   ]
  },
  {
   "cell_type": "code",
   "execution_count": null,
   "metadata": {
    "colab": {},
    "colab_type": "code",
    "id": "2SUjzYlr9XYH"
   },
   "outputs": [],
   "source": []
  }
 ],
 "metadata": {
  "colab": {
   "collapsed_sections": [],
   "name": "Sesion 5.2 - Evaluación.ipynb",
   "provenance": []
  },
  "kernelspec": {
   "display_name": "Python 3",
   "language": "python",
   "name": "python3"
  },
  "language_info": {
   "codemirror_mode": {
    "name": "ipython",
    "version": 3
   },
   "file_extension": ".py",
   "mimetype": "text/x-python",
   "name": "python",
   "nbconvert_exporter": "python",
   "pygments_lexer": "ipython3",
   "version": "3.7.6"
  }
 },
 "nbformat": 4,
 "nbformat_minor": 4
}
